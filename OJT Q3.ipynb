{
 "cells": [
  {
   "cell_type": "code",
   "execution_count": 1,
   "id": "385a9aab",
   "metadata": {},
   "outputs": [],
   "source": [
    "import pandas as pd\n",
    "import numpy as np\n",
    "import sympy as sp"
   ]
  },
  {
   "cell_type": "code",
   "execution_count": 2,
   "id": "2cfa27e4",
   "metadata": {},
   "outputs": [
    {
     "data": {
      "text/latex": [
       "$\\displaystyle \\left[\\begin{matrix}0 & 0 & 1 & 4 & 6 & 5\\\\6 & 6 & 5 & 2 & 7 & 4\\\\3 & 6 & 4 & 1 & 5 & 9\\\\0 & 6 & 3 & 2 & 9 & 3\\\\3 & 3 & 2 & 0 & 3 & 2\\\\0 & 3 & 0 & 0 & 7 & 3\\end{matrix}\\right]$"
      ],
      "text/plain": [
       "Matrix([\n",
       "[0, 0, 1, 4, 6, 5],\n",
       "[6, 6, 5, 2, 7, 4],\n",
       "[3, 6, 4, 1, 5, 9],\n",
       "[0, 6, 3, 2, 9, 3],\n",
       "[3, 3, 2, 0, 3, 2],\n",
       "[0, 3, 0, 0, 7, 3]])"
      ]
     },
     "execution_count": 2,
     "metadata": {},
     "output_type": "execute_result"
    }
   ],
   "source": [
    "np.random.seed(50)\n",
    "A= np.random.randint(0,10,(6,6))\n",
    "sp.Matrix(A)"
   ]
  },
  {
   "cell_type": "markdown",
   "id": "e6c0ff15",
   "metadata": {},
   "source": [
    "# Perform Singular Value Decomposition on the matrix A"
   ]
  },
  {
   "cell_type": "code",
   "execution_count": null,
   "id": "f22c5f05",
   "metadata": {},
   "outputs": [],
   "source": [
    "U,s,Vt=np.linalg.svd(A)"
   ]
  },
  {
   "cell_type": "code",
   "execution_count": 4,
   "id": "2efe37d2",
   "metadata": {},
   "outputs": [
    {
     "data": {
      "text/latex": [
       "$\\displaystyle \\left[\\begin{matrix}0.0 & 1.0 & -1.0 & 1.0 & 0.0 & 0.0\\\\-1.0 & 0.0 & 0.0 & 1.0 & 0.0 & 0.0\\\\-1.0 & 0.0 & -1.0 & 0.0 & 0.0 & 0.0\\\\0.0 & 0.0 & 0.0 & 0.0 & 1.0 & 0.0\\\\0.0 & 0.0 & 0.0 & 0.0 & 0.0 & -1.0\\\\0.0 & 0.0 & 0.0 & 0.0 & -1.0 & 0.0\\end{matrix}\\right]$"
      ],
      "text/plain": [
       "Matrix([\n",
       "[ 0.0, 1.0, -1.0, 1.0,  0.0,  0.0],\n",
       "[-1.0, 0.0,  0.0, 1.0,  0.0,  0.0],\n",
       "[-1.0, 0.0, -1.0, 0.0,  0.0,  0.0],\n",
       "[ 0.0, 0.0,  0.0, 0.0,  1.0,  0.0],\n",
       "[ 0.0, 0.0,  0.0, 0.0,  0.0, -1.0],\n",
       "[ 0.0, 0.0,  0.0, 0.0, -1.0,  0.0]])"
      ]
     },
     "execution_count": 4,
     "metadata": {},
     "output_type": "execute_result"
    }
   ],
   "source": [
    "sp.Matrix(np.round(U))"
   ]
  },
  {
   "cell_type": "code",
   "execution_count": 13,
   "id": "bbd26e4b",
   "metadata": {},
   "outputs": [
    {
     "data": {
      "text/latex": [
       "$\\displaystyle \\left[\\begin{matrix}23.5453282689798 & 0.0 & 0.0 & 0.0 & 0.0 & 0.0\\\\0.0 & 6.99532786526327 & 0.0 & 0.0 & 0.0 & 0.0\\\\0.0 & 0.0 & 5.48913713685966 & 0.0 & 0.0 & 0.0\\\\0.0 & 0.0 & 0.0 & 3.82737812818262 & 0.0 & 0.0\\\\0.0 & 0.0 & 0.0 & 0.0 & 2.21390055855326 & 0.0\\\\0.0 & 0.0 & 0.0 & 0.0 & 0.0 & 0.0458174306081103\\end{matrix}\\right]$"
      ],
      "text/plain": [
       "Matrix([\n",
       "[23.5453282689798,              0.0,              0.0,              0.0,              0.0,                0.0],\n",
       "[             0.0, 6.99532786526327,              0.0,              0.0,              0.0,                0.0],\n",
       "[             0.0,              0.0, 5.48913713685966,              0.0,              0.0,                0.0],\n",
       "[             0.0,              0.0,              0.0, 3.82737812818262,              0.0,                0.0],\n",
       "[             0.0,              0.0,              0.0,              0.0, 2.21390055855326,                0.0],\n",
       "[             0.0,              0.0,              0.0,              0.0,              0.0, 0.0458174306081103]])"
      ]
     },
     "execution_count": 13,
     "metadata": {},
     "output_type": "execute_result"
    }
   ],
   "source": [
    "sp.Matrix(np.diag(s))"
   ]
  },
  {
   "cell_type": "code",
   "execution_count": 19,
   "id": "5bedf122",
   "metadata": {},
   "outputs": [
    {
     "data": {
      "text/latex": [
       "$\\displaystyle \\left[\\begin{matrix}0.0 & 0.0 & 0.0 & 0.0 & 0.0 & 0.0\\\\0.0 & 0.0 & 0.0 & 0.0 & 0.0 & 0.0\\\\0.0 & 0.0 & 0.0 & 0.0 & 0.0 & 0.0\\\\0.0 & 0.0 & 0.0 & 0.0 & 0.0 & 0.0\\\\0.0 & 0.0 & 0.0 & 0.0 & 0.0 & 0.0\\\\0.0 & 0.0 & 0.0 & 0.0 & 0.0 & 0.0\\end{matrix}\\right]$"
      ],
      "text/plain": [
       "Matrix([\n",
       "[0.0, 0.0, 0.0, 0.0, 0.0, 0.0],\n",
       "[0.0, 0.0, 0.0, 0.0, 0.0, 0.0],\n",
       "[0.0, 0.0, 0.0, 0.0, 0.0, 0.0],\n",
       "[0.0, 0.0, 0.0, 0.0, 0.0, 0.0],\n",
       "[0.0, 0.0, 0.0, 0.0, 0.0, 0.0],\n",
       "[0.0, 0.0, 0.0, 0.0, 0.0, 0.0]])"
      ]
     },
     "execution_count": 19,
     "metadata": {},
     "output_type": "execute_result"
    }
   ],
   "source": [
    "Sigma=np.zeros((A.shape[0],A.shape[1]))\n",
    "sp.Matrix(Sigma)"
   ]
  },
  {
   "cell_type": "code",
   "execution_count": 20,
   "id": "fd86a3fa",
   "metadata": {},
   "outputs": [
    {
     "data": {
      "text/latex": [
       "$\\displaystyle \\left[\\begin{matrix}23.5453282689798 & 0.0 & 0.0 & 0.0 & 0.0 & 0.0\\\\0.0 & 6.99532786526327 & 0.0 & 0.0 & 0.0 & 0.0\\\\0.0 & 0.0 & 5.48913713685966 & 0.0 & 0.0 & 0.0\\\\0.0 & 0.0 & 0.0 & 3.82737812818262 & 0.0 & 0.0\\\\0.0 & 0.0 & 0.0 & 0.0 & 2.21390055855326 & 0.0\\\\0.0 & 0.0 & 0.0 & 0.0 & 0.0 & 0.0458174306081103\\end{matrix}\\right]$"
      ],
      "text/plain": [
       "Matrix([\n",
       "[23.5453282689798,              0.0,              0.0,              0.0,              0.0,                0.0],\n",
       "[             0.0, 6.99532786526327,              0.0,              0.0,              0.0,                0.0],\n",
       "[             0.0,              0.0, 5.48913713685966,              0.0,              0.0,                0.0],\n",
       "[             0.0,              0.0,              0.0, 3.82737812818262,              0.0,                0.0],\n",
       "[             0.0,              0.0,              0.0,              0.0, 2.21390055855326,                0.0],\n",
       "[             0.0,              0.0,              0.0,              0.0,              0.0, 0.0458174306081103]])"
      ]
     },
     "execution_count": 20,
     "metadata": {},
     "output_type": "execute_result"
    }
   ],
   "source": [
    "Sigma[:A.shape[1],:A.shape[0]]=np.diag(s)\n",
    "sp.Matrix(Sigma)"
   ]
  },
  {
   "cell_type": "code",
   "execution_count": 15,
   "id": "01327b6b",
   "metadata": {},
   "outputs": [
    {
     "data": {
      "text/latex": [
       "$\\displaystyle \\left[\\begin{matrix}0.0 & 0.0 & 0.0 & 0.0 & -1.0 & 0.0\\\\-1.0 & 0.0 & 0.0 & 0.0 & 1.0 & 0.0\\\\0.0 & 0.0 & 0.0 & 0.0 & 0.0 & -1.0\\\\0.0 & 0.0 & 0.0 & 1.0 & 0.0 & 0.0\\\\-1.0 & 0.0 & 1.0 & 0.0 & 0.0 & 0.0\\\\0.0 & 0.0 & -1.0 & 0.0 & 0.0 & 0.0\\end{matrix}\\right]$"
      ],
      "text/plain": [
       "Matrix([\n",
       "[ 0.0, 0.0,  0.0, 0.0, -1.0,  0.0],\n",
       "[-1.0, 0.0,  0.0, 0.0,  1.0,  0.0],\n",
       "[ 0.0, 0.0,  0.0, 0.0,  0.0, -1.0],\n",
       "[ 0.0, 0.0,  0.0, 1.0,  0.0,  0.0],\n",
       "[-1.0, 0.0,  1.0, 0.0,  0.0,  0.0],\n",
       "[ 0.0, 0.0, -1.0, 0.0,  0.0,  0.0]])"
      ]
     },
     "execution_count": 15,
     "metadata": {},
     "output_type": "execute_result"
    }
   ],
   "source": [
    "sp.Matrix(np.round(Vt))"
   ]
  },
  {
   "cell_type": "code",
   "execution_count": 21,
   "id": "992b2d6d",
   "metadata": {},
   "outputs": [
    {
     "data": {
      "text/latex": [
       "$\\displaystyle \\left[\\begin{matrix}-8.88178419700125 \\cdot 10^{-16} & -3.5527136788005 \\cdot 10^{-15} & 1.0 & 4.0 & 6.0 & 5.0\\\\6.0 & 6.0 & 5.0 & 2.0 & 7.0 & 4.0\\\\3.0 & 6.0 & 4.0 & 1.0 & 5.0 & 9.0\\\\-4.44089209850063 \\cdot 10^{-16} & 6.0 & 3.0 & 2.0 & 9.0 & 3.0\\\\3.0 & 3.0 & 2.0 & -2.1094237467878 \\cdot 10^{-15} & 3.0 & 2.0\\\\-1.33226762955019 \\cdot 10^{-15} & 2.99999999999999 & 4.88498130835069 \\cdot 10^{-15} & -3.99680288865056 \\cdot 10^{-15} & 7.0 & 3.0\\end{matrix}\\right]$"
      ],
      "text/plain": [
       "Matrix([\n",
       "[-8.88178419700125e-16, -3.5527136788005e-15,                  1.0,                   4.0, 6.0, 5.0],\n",
       "[                  6.0,                  6.0,                  5.0,                   2.0, 7.0, 4.0],\n",
       "[                  3.0,                  6.0,                  4.0,                   1.0, 5.0, 9.0],\n",
       "[-4.44089209850063e-16,                  6.0,                  3.0,                   2.0, 9.0, 3.0],\n",
       "[                  3.0,                  3.0,                  2.0,  -2.1094237467878e-15, 3.0, 2.0],\n",
       "[-1.33226762955019e-15,     2.99999999999999, 4.88498130835069e-15, -3.99680288865056e-15, 7.0, 3.0]])"
      ]
     },
     "execution_count": 21,
     "metadata": {},
     "output_type": "execute_result"
    }
   ],
   "source": [
    "# verification of SVD\n",
    "y=U@Sigma@Vt\n",
    "sp.Matrix(y)"
   ]
  },
  {
   "cell_type": "code",
   "execution_count": 22,
   "id": "87d3cbfc",
   "metadata": {},
   "outputs": [
    {
     "data": {
      "text/latex": [
       "$\\displaystyle \\left[\\begin{matrix}0 & 0 & 1 & 4 & 6 & 5\\\\6 & 6 & 5 & 2 & 7 & 4\\\\3 & 6 & 4 & 1 & 5 & 9\\\\0 & 6 & 3 & 2 & 9 & 3\\\\3 & 3 & 2 & 0 & 3 & 2\\\\0 & 3 & 0 & 0 & 7 & 3\\end{matrix}\\right]$"
      ],
      "text/plain": [
       "Matrix([\n",
       "[0, 0, 1, 4, 6, 5],\n",
       "[6, 6, 5, 2, 7, 4],\n",
       "[3, 6, 4, 1, 5, 9],\n",
       "[0, 6, 3, 2, 9, 3],\n",
       "[3, 3, 2, 0, 3, 2],\n",
       "[0, 3, 0, 0, 7, 3]])"
      ]
     },
     "execution_count": 22,
     "metadata": {},
     "output_type": "execute_result"
    }
   ],
   "source": [
    "sp.Matrix(A)"
   ]
  },
  {
   "cell_type": "markdown",
   "id": "278debf4",
   "metadata": {},
   "source": [
    "A equals the product of U, Σ, and V."
   ]
  },
  {
   "cell_type": "markdown",
   "id": "5a061bf5",
   "metadata": {},
   "source": [
    "# Rank 2 and Rank 3 approximations of matrix A."
   ]
  },
  {
   "cell_type": "code",
   "execution_count": 24,
   "id": "8e1c717b",
   "metadata": {},
   "outputs": [
    {
     "name": "stdout",
     "output_type": "stream",
     "text": [
      "rank-2 approximation of A:\n",
      " [[-0.79894314  2.15169025  0.74683769  2.02385124  6.70547621  3.16322487]\n",
      " [ 4.78176718  6.42897995  4.64711333  1.18412039  6.1135535   5.88493814]\n",
      " [ 4.32935918  6.20254239  4.3877423   1.33505157  6.44971151  5.81894027]\n",
      " [ 0.82240234  4.27120035  2.294027    2.38378284  8.63382375  5.08104335]\n",
      " [ 2.47165287  3.03068558  2.26397845  0.41068287  2.45965821  2.66602718]\n",
      " [-0.24752239  2.44715319  1.07216688  1.85329552  6.34237936  3.26869075]]\n",
      "\n",
      "rank-3 approximation of A:\n",
      " [[-1.05684147  1.08091566  0.59260402  2.64845723  5.71061603  5.57216469]\n",
      " [ 4.92947406  7.04224786  4.73544804  0.82638794  6.68334273  4.50525889]\n",
      " [ 4.03789751  4.99241535  4.21343639  2.04094486  5.32537852  8.54138365]\n",
      " [ 1.04799589  5.20784789  2.4289411   1.83741606  9.50406605  2.97385143]\n",
      " [ 2.54703963  3.34368577  2.30906279  0.22810309  2.75046772  1.96186532]\n",
      " [-0.1571777   2.82225759  1.12619668  1.63448901  6.69089008  2.42481201]]\n",
      "\n"
     ]
    }
   ],
   "source": [
    "for k in range(2,4):\n",
    "    Ak= np.dot(U[:,:k], np.dot(np.diag(s[:k]), Vt[:k,:]))\n",
    "    print(f\"rank-{k} approximation of A:\\n {Ak}\\n\")"
   ]
  }
 ],
 "metadata": {
  "kernelspec": {
   "display_name": "Python 3",
   "language": "python",
   "name": "python3"
  },
  "language_info": {
   "codemirror_mode": {
    "name": "ipython",
    "version": 3
   },
   "file_extension": ".py",
   "mimetype": "text/x-python",
   "name": "python",
   "nbconvert_exporter": "python",
   "pygments_lexer": "ipython3",
   "version": "3.8.8"
  }
 },
 "nbformat": 4,
 "nbformat_minor": 5
}
